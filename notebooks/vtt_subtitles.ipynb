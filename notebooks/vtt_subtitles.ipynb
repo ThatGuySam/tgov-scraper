{
 "cells": [
  {
   "cell_type": "code",
   "execution_count": null,
   "metadata": {},
   "outputs": [],
   "source": [
    "import sys\n",
    "import pandas as pd\n",
    "\n",
    "sys.path.append(\"../\")\n",
    "from pathlib import Path"
   ]
  },
  {
   "cell_type": "code",
   "execution_count": null,
   "metadata": {},
   "outputs": [],
   "source": [
    "### First, prove a video player can use the granicus url for mp4"
   ]
  },
  {
   "cell_type": "code",
   "execution_count": null,
   "metadata": {},
   "outputs": [],
   "source": [
    "# Cell to retrieve download URL and create a simple player\n",
    "import asyncio\n",
    "import os\n",
    "from IPython.display import HTML, display\n",
    "from src.granicus import get_video_player\n",
    "\n",
    "# URL for the Granicus player page\n",
    "granicus_url = \"https://tulsa-ok.granicus.com/MediaPlayer.php?view_id=4&clip_id=6399\"\n",
    "player = await get_video_player(granicus_url)\n",
    "\n",
    "player_html = f\"\"\"\n",
    "<div style=\"max-width: 640px; margin: 20px auto; border: 1px solid #ddd; padding: 10px; background: #f5f5f5;\">\n",
    "    <h3 style=\"margin-top: 0; color: #333;\">Direct Video Player</h3>\n",
    "    \n",
    "    <video id=\"granicus-video\" controls width=\"100%\" preload=\"metadata\" style=\"background: #000;\">\n",
    "    <source src=\"{player.download_url}\" type=\"video/mp4\">\n",
    "    Your browser does not support the video tag.\n",
    "    </video>\n",
    "    \n",
    "    <div style=\"margin-top: 10px; font-size: 12px; color: #666;\">\n",
    "    <p>Using direct MP4 download URL instead of streaming URL for better playback in notebook.</p>\n",
    "    </div>\n",
    "</div>\n",
    "\"\"\"\n",
    "\n",
    "display(HTML(player_html))\n",
    "\n"
   ]
  },
  {
   "cell_type": "code",
   "execution_count": null,
   "metadata": {},
   "outputs": [],
   "source": [
    "# Import the necessary modules\n",
    "from pathlib import Path\n",
    "import json\n",
    "from IPython.display import HTML, display\n",
    "\n",
    "# Import from the new subtitles module\n",
    "from src.subtitles import create_track, load_transcript\n",
    "from src.models.subtitles import TrackFormat\n",
    "\n",
    "# Path to the transcript file\n",
    "transcript_file = Path(\n",
    "    \"../data/transcripts/regular_council_meeting___2025_02_26.diarized.json\"\n",
    ")\n",
    "\n",
    "# Create VTT track\n",
    "vtt_track = create_track(\n",
    "    transcript_data=transcript_file,\n",
    "    track_format='vtt',\n",
    "    max_duration=5.0,\n",
    "    include_speaker_prefix=False,\n",
    ")\n",
    "\n",
    "# Get the VTT content\n",
    "vtt_content = vtt_track.content()\n",
    "\n",
    "# For demonstration, print a few lines of the VTT content\n",
    "print(vtt_content.split(\"\\n\\n\")[:5])"
   ]
  },
  {
   "cell_type": "code",
   "execution_count": null,
   "metadata": {},
   "outputs": [],
   "source": [
    "# Cell to create a video player with embedded VTT subtitles\n",
    "import base64\n",
    "from IPython.display import HTML, display\n",
    "from src.granicus import get_video_player\n",
    "\n",
    "# URL for the Granicus player page\n",
    "granicus_url = \"https://tulsa-ok.granicus.com/MediaPlayer.php?view_id=4&clip_id=6399\"\n",
    "player = await get_video_player(granicus_url)\n",
    "vtt_data_url = f\"data:text/vtt;charset=utf-8;base64,{base64.b64encode(vtt_content.encode('utf-8')).decode('ascii')}\"\n",
    "\n",
    "# Generate VTT subtitles (using the code from the previous cell if needed)\n",
    "# Display the sample VTT subtitles in the video player\n",
    "player_html = f\"\"\"\n",
    "<div style=\"max-width: 640px; margin: 20px auto; border: 1px solid #ddd; padding: 10px; background: #f5f5f5;\">\n",
    "    <h3 style=\"margin-top: 0; color: #333;\">Video Player with Embedded VTT</h3>\n",
    "    \n",
    "    <video id=\"video-with-data-vtt\" controls width=\"100%\" preload=\"metadata\" style=\"background: #000;\">\n",
    "    <source src=\"{player.download_url}\" type=\"video/mp4\">\n",
    "    <track kind=\"subtitles\" srclang=\"en\" label=\"English\" default src=\"{vtt_data_url}\">\n",
    "    Your browser does not support the video tag.\n",
    "    </video>\n",
    "    \n",
    "    <div style=\"margin-top: 10px; font-size: 12px; color: #666;\">\n",
    "    <p>Video player with subtitles generated using the subtitles module.</p>\n",
    "    </div>\n",
    "</div>\n",
    "\"\"\"\n",
    "\n",
    "display(HTML(player_html))"
   ]
  }
 ],
 "metadata": {
  "kernelspec": {
   "display_name": "TGOV Scraper",
   "language": "python",
   "name": "tgov-scraper"
  },
  "language_info": {
   "codemirror_mode": {
    "name": "ipython",
    "version": 3
   },
   "file_extension": ".py",
   "mimetype": "text/x-python",
   "name": "python",
   "nbconvert_exporter": "python",
   "pygments_lexer": "ipython3",
   "version": "3.11.9"
  }
 },
 "nbformat": 4,
 "nbformat_minor": 2
}
