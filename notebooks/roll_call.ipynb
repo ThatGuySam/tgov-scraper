{
 "cells": [
  {
   "cell_type": "markdown",
   "metadata": {},
   "source": [
    "### This notebook is for focusing on a roll call to see how it is transcribed\n",
    "\n",
    "Recognizing short words by different speakers is difficult.  This notebook focuses in a roll call vote to see if changing model parameters can improve it.  \n"
   ]
  },
  {
   "cell_type": "code",
   "execution_count": null,
   "metadata": {},
   "outputs": [],
   "source": [
    "import sys\n",
    "import pandas as pd\n",
    "sys.path.append(\"../\")\n",
    "from pathlib import Path"
   ]
  },
  {
   "cell_type": "markdown",
   "metadata": {},
   "source": [
    "### use ffmpeg to get a section of a meeting\n",
    "This 30 second clip is a roll call vote"
   ]
  },
  {
   "cell_type": "code",
   "execution_count": null,
   "metadata": {},
   "outputs": [],
   "source": [
    "import subprocess\n",
    "from pathlib import Path\n",
    "\n",
    "# Input and output file paths\n",
    "input_file = Path(\"../data/video/regular_council_meeting___2025_02_26.mp4\")\n",
    "clip_file = Path(\"../data/video/regular_council_meeting___2025_02_26_clip_4-50_to_5-20.mp4\")\n",
    "\n",
    "# Parameters for clip extraction\n",
    "start_time = \"4:50\"\n",
    "duration = \"30\"  # 30 seconds\n",
    "\n",
    "# Run FFmpeg command\n",
    "result = subprocess.run(\n",
    "    [\n",
    "        \"ffmpeg\",\n",
    "        \"-i\",\n",
    "        str(input_file),\n",
    "        \"-ss\",\n",
    "        start_time,\n",
    "        \"-t\",\n",
    "        duration,\n",
    "        \"-c\",\n",
    "        \"copy\",  # Copy codec (fast but might not be frame accurate)\n",
    "        \"-avoid_negative_ts\",\n",
    "        \"1\",\n",
    "        str(clip_file),\n",
    "        \"-y\",  # Overwrite if exists\n",
    "    ],\n",
    "    capture_output=True,\n",
    "    text=True,\n",
    ")\n",
    "\n",
    "# Check if command was successful\n",
    "if result.returncode == 0:\n",
    "    print(f\"Clip successfully extracted to: {clip_file}\")\n",
    "else:\n",
    "    print(f\"Error extracting clip: {result.stderr}\")"
   ]
  },
  {
   "cell_type": "markdown",
   "metadata": {},
   "source": [
    "### experiment with model parameters\n",
    "\n",
    "using these setting actually made the results worse:\n",
    "- min_speakers=3,  # Specify at least 3 speakers\n",
    "- max_speakers=15,  # Limit to at most 10 speakers\n",
    "- diarize_min_duration=0.1,  # Shorter minimum segment duration\n",
    "I also tested with medium, and large versions but the results using tiny were the same\n"
   ]
  },
  {
   "cell_type": "code",
   "execution_count": null,
   "metadata": {},
   "outputs": [],
   "source": [
    "from src.videos import transcribe_video_with_diarization\n",
    "\n",
    "transcription_dir = Path(\"../data/transcripts\")\n",
    "\n",
    "transcript_data = await transcribe_video_with_diarization(\n",
    "    clip_file,\n",
    "    transcription_dir,\n",
    "    model_size=\"tiny\",\n",
    ")"
   ]
  },
  {
   "cell_type": "code",
   "execution_count": null,
   "metadata": {},
   "outputs": [],
   "source": [
    "def format_timestamp(seconds: float) -> str:\n",
    "    \"\"\"Convert seconds to HH:MM:SS format\"\"\"\n",
    "    hours = int(seconds // 3600)\n",
    "    minutes = int((seconds % 3600) // 60)\n",
    "    secs = int(seconds % 60)\n",
    "    return f\"{hours:02d}:{minutes:02d}:{secs:02d}\"\n",
    "\n",
    "\n",
    "from ipywidgets import HTML, VBox, Layout\n",
    "from textwrap import fill\n",
    "\n",
    "# Create formatted HTML output\n",
    "html_output = [\"<h3>Meeting Script</h3>\"]\n",
    "html_output.append(\"<hr>\")\n",
    "\n",
    "current_speaker = None\n",
    "current_text = []\n",
    "current_start = None\n",
    "\n",
    "for segment in transcript_data[\"segments\"]:\n",
    "    if current_speaker != segment[\"speaker\"]:\n",
    "        # Output previous speaker's text\n",
    "        if current_speaker:\n",
    "            timestamp = format_timestamp(current_start)\n",
    "            wrapped_text = fill(\" \".join(current_text), width=80)\n",
    "            html_output.append(f\"<p><b>[{timestamp}] {current_speaker}:</b><br>\")\n",
    "            html_output.append(f\"{wrapped_text}</p>\")\n",
    "            html_output.append(\"<hr>\")\n",
    "\n",
    "        # Start new speaker\n",
    "        current_speaker = segment[\"speaker\"]\n",
    "        current_text = [segment[\"text\"].strip()]\n",
    "        current_start = segment[\"start\"]\n",
    "    else:\n",
    "        # Continue current speaker\n",
    "        current_text.append(segment[\"text\"].strip())\n",
    "\n",
    "# Output final speaker\n",
    "if current_speaker:\n",
    "    timestamp = format_timestamp(current_start)\n",
    "    wrapped_text = fill(\" \".join(current_text), width=80)\n",
    "    html_output.append(f\"<p><b>[{timestamp}] {current_speaker}:</b><br>\")\n",
    "    html_output.append(f\"{wrapped_text}</p>\")\n",
    "    html_output.append(\"<hr>\")\n",
    "\n",
    "# Display formatted output\n",
    "display(\n",
    "    HTML(\n",
    "        value=\"\".join(html_output),\n",
    "        layout=Layout(width=\"100%\", border=\"1px solid gray\", padding=\"10px\"),\n",
    "    )\n",
    ")"
   ]
  }
 ],
 "metadata": {
  "kernelspec": {
   "display_name": "TGOV Scraper",
   "language": "python",
   "name": "tgov-scraper"
  },
  "language_info": {
   "codemirror_mode": {
    "name": "ipython",
    "version": 3
   },
   "file_extension": ".py",
   "mimetype": "text/x-python",
   "name": "python",
   "nbconvert_exporter": "python",
   "pygments_lexer": "ipython3",
   "version": "3.11.9"
  }
 },
 "nbformat": 4,
 "nbformat_minor": 2
}
