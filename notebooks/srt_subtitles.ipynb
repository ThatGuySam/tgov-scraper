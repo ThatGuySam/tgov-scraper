{
 "cells": [
  {
   "cell_type": "markdown",
   "metadata": {},
   "source": [
    "# SRT Subtitle Generation\n",
    "\n",
    "This notebook demonstrates how to create SRT subtitles using the unified subtitle module."
   ]
  },
  {
   "cell_type": "code",
   "execution_count": null,
   "metadata": {},
   "outputs": [],
   "source": [
    "import sys\n",
    "import pandas as pd\n",
    "import json\n",
    "import asyncio\n",
    "import os\n",
    "import base64\n",
    "from pathlib import Path\n",
    "from typing import List, Dict, Any\n",
    "from IPython.display import HTML, display\n",
    "\n",
    "sys.path.append(\"../\")\n",
    "\n",
    "# Import the necessary modules from the new subtitles package\n",
    "from src.subtitles import create_track"
   ]
  },
  {
   "cell_type": "markdown",
   "metadata": {},
   "source": [
    "## Creating SRT Subtitles\n",
    "\n",
    "Let's use the new unified subtitle module to create SRT subtitles from a transcript file."
   ]
  },
  {
   "cell_type": "code",
   "execution_count": null,
   "metadata": {},
   "outputs": [],
   "source": [
    "# Path to the transcript file\n",
    "transcript_file = Path(\n",
    "    \"../data/transcripts/regular_council_meeting___2025_02_26.diarized.json\"\n",
    ")\n",
    "# Create an SRT track from the transcript\n",
    "srt_track = create_track(\n",
    "    transcript_data=transcript_file,\n",
    "    format='srt',\n",
    "    max_duration=5.0,  # Maximum duration for each subtitle\n",
    "    max_length=80,  # Maximum length in characters\n",
    "    include_speaker_prefix=True,  # Include speaker labels\n",
    ")\n",
    "\n",
    "# Get the SRT content\n",
    "srt_content = srt_track.content()\n",
    "\n",
    "# Display the first few entries\n",
    "print(\"\\n\".join(srt_content.split(\"\\n\\n\")[:5]))"
   ]
  },
  {
   "cell_type": "markdown",
   "metadata": {},
   "source": [
    "## Saving the SRT File\n",
    "\n",
    "Let's save the generated SRT content to a file."
   ]
  },
  {
   "cell_type": "code",
   "execution_count": null,
   "metadata": {},
   "outputs": [],
   "source": [
    "# Define output directory\n",
    "output_dir = Path(\"../data\")\n",
    "output_dir.mkdir(exist_ok=True)\n",
    "\n",
    "# Output SRT file path\n",
    "srt_file_path = output_dir / \"subtitles.srt\"\n",
    "\n",
    "# Save the SRT content to a file\n",
    "with open(srt_file_path, \"w\", encoding=\"utf-8\") as f:\n",
    "    f.write(srt_content)\n",
    "\n",
    "print(f\"SRT file saved to: {srt_file_path}\")"
   ]
  },
  {
   "cell_type": "code",
   "execution_count": null,
   "metadata": {},
   "outputs": [],
   "source": [
    "# Create video directory\n",
    "video_dir = Path(\"../data/video\")\n",
    "video_dir.mkdir(exist_ok=True)\n",
    "\n",
    "# Check if we need to download the video\n",
    "input_video_path = video_dir / \"regular_council_meeting___2025_02_26.mp4\"\n",
    "\n",
    "# Display file info\n",
    "file_size_mb = input_video_path.stat().st_size / (1024 * 1024)\n",
    "print(f\"File size: {file_size_mb:.2f} MB\")"
   ]
  },
  {
   "cell_type": "code",
   "execution_count": null,
   "metadata": {},
   "outputs": [],
   "source": [
    "# Import the subtitles module\n",
    "from src.subtitles import create_track\n",
    "import subprocess\n",
    "\n",
    "# Path to the SRT file we saved earlier\n",
    "srt_file = Path(\"../data/subtitles.srt\")\n",
    "\n",
    "# Path for the output video with embedded subtitles\n",
    "output_video = video_dir / \"regular_council_meeting___2025_02_26_with_srt_subtitles.mp4\"\n",
    "\n",
    "# Check if FFmpeg is installed\n",
    "\n",
    "cmd = [\n",
    "    \"ffmpeg\",\n",
    "    \"-y\",  # Overwrite output files without asking\n",
    "    \"-i\",\n",
    "    str(input_video_path),  # Input video\n",
    "    \"-vf\",\n",
    "    f\"subtitles={str(srt_file)}:force_style='FontSize=24,Alignment=2'\",  # Add subtitles\n",
    "    \"-c:v\",\n",
    "    \"libx264\",  # Video codec\n",
    "    \"-crf\",\n",
    "    \"23\",  # Quality (lower is better)\n",
    "    \"-c:a\",\n",
    "    \"copy\",  # Copy audio stream\n",
    "    \"-t\",\n",
    "    \"300\",  # Limit to first five minutes for testing\n",
    "    str(output_video),  # Output path\n",
    "]\n",
    "\n",
    "print(\"Running FFmpeg command to embed subtitles...\")\n",
    "print(\" \".join(cmd))\n",
    "result = subprocess.run(\n",
    "    cmd, check=True, stdout=subprocess.PIPE, stderr=subprocess.PIPE\n",
    ")\n",
    "print(\"Successfully created video with embedded subtitles!\")\n",
    "print(f\"Output video saved to: {output_video}\")\n",
    "\n"
   ]
  },
  {
   "cell_type": "code",
   "execution_count": null,
   "metadata": {},
   "outputs": [],
   "source": [
    "# Display the video with embedded subtitles using IPython's Video widget\n",
    "from IPython.display import Video\n",
    "\n",
    "# Path to the video with embedded subtitles\n",
    "if output_video.exists():\n",
    "    # Display the video\n",
    "    print(\"Playing video with embedded subtitles:\")\n",
    "    display(Video(str(output_video), embed=True, width=640, height=360))\n",
    "else:\n",
    "    print(f\"Video file not found: {output_video}\")"
   ]
  }
 ],
 "metadata": {
  "kernelspec": {
   "display_name": "TGOV Scraper",
   "language": "python",
   "name": "tgov-scraper"
  },
  "language_info": {
   "codemirror_mode": {
    "name": "ipython",
    "version": 3
   },
   "file_extension": ".py",
   "mimetype": "text/x-python",
   "name": "python",
   "nbconvert_exporter": "python",
   "pygments_lexer": "ipython3",
   "version": "3.11.9"
  }
 },
 "nbformat": 4,
 "nbformat_minor": 4
}
