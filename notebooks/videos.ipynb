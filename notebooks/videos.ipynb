{
 "cells": [
  {
   "cell_type": "code",
   "execution_count": null,
   "metadata": {},
   "outputs": [],
   "source": [
    "import sys\n",
    "import pandas as pd\n",
    "sys.path.append(\"../\")\n",
    "from pathlib import Path"
   ]
  },
  {
   "cell_type": "markdown",
   "metadata": {},
   "source": [
    "### Retrieve City Council meetings CSV created using meetings.ipynb"
   ]
  },
  {
   "cell_type": "code",
   "execution_count": null,
   "metadata": {},
   "outputs": [],
   "source": [
    "# Read the meetings CSV file\n",
    "meeting_data = \"../data/meetings.csv\"\n",
    "meetings_df = pd.read_csv(meeting_data)\n",
    "\n",
    "# Convert date column to datetime\n",
    "meetings_df['date'] = pd.to_datetime(meetings_df['date'])\n",
    "\n",
    "# Sort by date in descending order (latest first)\n",
    "meetings_df = meetings_df.sort_values('date', ascending=False)\n",
    "\n",
    "city_council_meetings = meetings_df[\n",
    "    meetings_df[\"meeting\"].str.contains(\"Regular Council Meeting\")\n",
    "]\n",
    "\n",
    "city_council_meetings.head()"
   ]
  },
  {
   "cell_type": "markdown",
   "metadata": {},
   "source": [
    "### Select a meeting to work on"
   ]
  },
  {
   "cell_type": "code",
   "execution_count": null,
   "metadata": {},
   "outputs": [],
   "source": [
    "import ipywidgets as wdgt\n",
    "\n",
    "# Create dropdown widget with video URLs and meeting info\n",
    "options = {\n",
    "    f\"{row['meeting']} - {row['date'].strftime('%Y-%m-%d')}\": {\n",
    "        'url': row['video'],\n",
    "        'label': f\"{row['meeting']} - {row['date'].strftime('%Y-%m-%d')}\"\n",
    "    }\n",
    "    for _, row in city_council_meetings.iterrows()\n",
    "}\n",
    "\n",
    "video_select = wdgt.Dropdown(\n",
    "    options={k: v['url'] for k, v in options.items()},\n",
    "    description='Select Video:',\n",
    "    style={'description_width': 'initial'},\n",
    "    layout=wdgt.Layout(width='75%')\n",
    ")\n",
    "\n",
    "# Update video_url and file_name variables when selection changes\n",
    "def update_video_url(change):\n",
    "    global video_url, file_name\n",
    "    video_url = change.new\n",
    "    # Get the label for the selected URL\n",
    "    selected_label = [k for k,v in options.items() if v['url'] == change.new][0]\n",
    "    # Create safe filename by replacing spaces and special chars\n",
    "    file_name = selected_label.lower().replace(' ', '_').replace('-', '_')\n",
    "    file_name = ''.join(c for c in file_name if c.isalnum() or c == '_')\n",
    "\n",
    "video_select.observe(update_video_url, names='value')\n",
    "display(video_select)\n"
   ]
  },
  {
   "cell_type": "markdown",
   "metadata": {},
   "source": [
    "### Download the mp4 file from the meeting player page\n",
    "The meeting list includes a url to the granicus.com video player.\n",
    "The page includes a video stream url which is not practical to use for downloading.  The function get_video_player return a GranicusPlayerPage object that includes a `download_url` which is created from the streaming url.\n"
   ]
  },
  {
   "cell_type": "code",
   "execution_count": null,
   "metadata": {},
   "outputs": [],
   "source": [
    "import os\n",
    "import sys\n",
    "from pathlib import Path\n",
    "import requests\n",
    "from src.models.meeting import GranicusPlayerPage\n",
    "from src.granicus import get_video_player\n",
    "from src.videos import download_file\n",
    "# You may need to turn off VPN\n",
    "sys.path.append(\"../\")  # Make sure we can import from scripts\n",
    "\n",
    "# Create output directory if it doesn't exist\n",
    "VIDEO_DIRECTORY = Path(\"../data/video\")\n",
    "VIDEO_DIRECTORY.mkdir(parents=True, exist_ok=True)\n",
    "\n",
    "# Define output path for the video\n",
    "output_path = VIDEO_DIRECTORY / f\"{file_name}.mp4\"\n",
    "\n",
    "# Get video player page info\n",
    "player_page: GranicusPlayerPage = await get_video_player(video_url)\n",
    "\n",
    "# Run the download\n",
    "video_file = download_file(player_page.download_url, output_path)\n",
    "\n",
    "# Display the result\n",
    "if video_file:\n",
    "    print(f\"Video saved to: {video_file}\")"
   ]
  },
  {
   "cell_type": "markdown",
   "metadata": {},
   "source": [
    "### Use the downloaded mp4 file to extract a wav file"
   ]
  },
  {
   "cell_type": "code",
   "execution_count": null,
   "metadata": {},
   "outputs": [],
   "source": [
    "import asyncio\n",
    "import os\n",
    "from pathlib import Path\n",
    "from src.videos import save_audio\n",
    "\n",
    "\n",
    "# Create output directory for audio files if it doesn't exist\n",
    "audio_dir = Path(\"../data/audio\")\n",
    "audio_dir.mkdir(parents=True, exist_ok=True)\n",
    "\n",
    "# Assuming video_file contains the path to the downloaded video\n",
    "# This would be the result from the previous download_video call\n",
    "if not os.path.exists(video_file):\n",
    "    print(f\"Error: Video file not found at {video_file}\")\n",
    "else:\n",
    "    # Define output path for the audio\n",
    "    video_filename = os.path.basename(video_file)\n",
    "    base_filename = os.path.splitext(video_filename)[0]\n",
    "    audio_path = audio_dir / f\"{base_filename}.wav\"\n",
    "\n",
    "    print(f\"Extracting audio from: {video_file}\")\n",
    "    print(f\"Saving audio to: {audio_path}\")\n",
    "\n",
    "    audio_file = await save_audio(\n",
    "                video_path=video_file,\n",
    "                output_path=str(audio_path),\n",
    "            )\n",
    "\n",
    "    if audio_file:\n",
    "        print(f\"Audio saved to: {audio_file}\")\n",
    "        print(f\"Audio file size: {os.path.getsize(audio_file) / (1024 * 1024):.2f} MB\")"
   ]
  },
  {
   "cell_type": "markdown",
   "metadata": {},
   "source": [
    "### Convert the video file into a transcipt\n",
    "This step requires a huggingface login and api_token.\n",
    "You will also need to agree to terms on each of the following models:\n",
    "- guillaumekln/faster-whisper\n",
    "- \n"
   ]
  },
  {
   "cell_type": "code",
   "execution_count": null,
   "metadata": {},
   "outputs": [],
   "source": [
    "from src.videos import transcribe_video\n",
    "\n",
    "video_file = \"../data/video/regular_council_meeting___2025_02_26.mp4\"\n",
    "\n",
    "transcription_dir = Path(\"../data/transcripts\")\n",
    "\n",
    "transcription = await transcribe_video(video_file, transcription_dir)"
   ]
  },
  {
   "cell_type": "code",
   "execution_count": null,
   "metadata": {},
   "outputs": [],
   "source": [
    "from src.videos import transcribe_video_with_diarization\n",
    "\n",
    "video_file = \"../data/video/regular_council_meeting___2025_02_26.mp4\"\n",
    "\n",
    "transcription_dir = Path(\"../data/transcripts\")\n",
    "\n",
    "transcription = await transcribe_video_with_diarization(video_file, transcription_dir)"
   ]
  }
 ],
 "metadata": {
  "kernelspec": {
   "display_name": "TGOV Scraper",
   "language": "python",
   "name": "tgov-scraper"
  },
  "language_info": {
   "codemirror_mode": {
    "name": "ipython",
    "version": 3
   },
   "file_extension": ".py",
   "mimetype": "text/x-python",
   "name": "python",
   "nbconvert_exporter": "python",
   "pygments_lexer": "ipython3",
   "version": "3.11.9"
  }
 },
 "nbformat": 4,
 "nbformat_minor": 2
}
