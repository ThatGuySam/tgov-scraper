{
 "cells": [
  {
   "cell_type": "code",
   "execution_count": 1,
   "metadata": {},
   "outputs": [],
   "source": [
    "import sys\n",
    "import pandas as pd\n",
    "sys.path.append(\"../\")\n",
    "from pathlib import Path"
   ]
  },
  {
   "cell_type": "markdown",
   "metadata": {},
   "source": [
    "### Retrieve City Council meetings CSV created using meetings.ipynb"
   ]
  },
  {
   "cell_type": "code",
   "execution_count": 9,
   "metadata": {},
   "outputs": [
    {
     "name": "stderr",
     "output_type": "stream",
     "text": [
      "/var/folders/b8/7gv3b8555kz5nl38l_my03w80000gn/T/ipykernel_80868/3499349988.py:6: UserWarning: Could not infer format, so each element will be parsed individually, falling back to `dateutil`. To ensure parsing is consistent and as-expected, please specify a format.\n",
      "  meetings_df['date'] = pd.to_datetime(meetings_df['date'])\n"
     ]
    },
    {
     "data": {
      "text/html": [
       "<div>\n",
       "<style scoped>\n",
       "    .dataframe tbody tr th:only-of-type {\n",
       "        vertical-align: middle;\n",
       "    }\n",
       "\n",
       "    .dataframe tbody tr th {\n",
       "        vertical-align: top;\n",
       "    }\n",
       "\n",
       "    .dataframe thead th {\n",
       "        text-align: right;\n",
       "    }\n",
       "</style>\n",
       "<table border=\"1\" class=\"dataframe\">\n",
       "  <thead>\n",
       "    <tr style=\"text-align: right;\">\n",
       "      <th></th>\n",
       "      <th>meeting</th>\n",
       "      <th>date</th>\n",
       "      <th>duration</th>\n",
       "      <th>agenda</th>\n",
       "      <th>video</th>\n",
       "      <th>duration_minutes</th>\n",
       "    </tr>\n",
       "  </thead>\n",
       "  <tbody>\n",
       "    <tr>\n",
       "      <th>0</th>\n",
       "      <td>Regular Council Meeting</td>\n",
       "      <td>2025-03-05 17:02:00</td>\n",
       "      <td>00h 39m</td>\n",
       "      <td>https://tulsa-ok.granicus.com/AgendaViewer.php...</td>\n",
       "      <td>https://tulsa-ok.granicus.com/MediaPlayer.php?...</td>\n",
       "      <td>39</td>\n",
       "    </tr>\n",
       "    <tr>\n",
       "      <th>1</th>\n",
       "      <td>Regular Council Meeting</td>\n",
       "      <td>2025-02-26 17:00:00</td>\n",
       "      <td>00h 38m</td>\n",
       "      <td>https://tulsa-ok.granicus.com/AgendaViewer.php...</td>\n",
       "      <td>https://tulsa-ok.granicus.com/MediaPlayer.php?...</td>\n",
       "      <td>38</td>\n",
       "    </tr>\n",
       "    <tr>\n",
       "      <th>2</th>\n",
       "      <td>Regular Council Meeting</td>\n",
       "      <td>2025-02-12 17:00:00</td>\n",
       "      <td>00h 31m</td>\n",
       "      <td>https://tulsa-ok.granicus.com/AgendaViewer.php...</td>\n",
       "      <td>https://tulsa-ok.granicus.com/MediaPlayer.php?...</td>\n",
       "      <td>31</td>\n",
       "    </tr>\n",
       "    <tr>\n",
       "      <th>3</th>\n",
       "      <td>Regular Council Meeting</td>\n",
       "      <td>2025-02-05 17:00:00</td>\n",
       "      <td>00h 29m</td>\n",
       "      <td>https://tulsa-ok.granicus.com/AgendaViewer.php...</td>\n",
       "      <td>https://tulsa-ok.granicus.com/MediaPlayer.php?...</td>\n",
       "      <td>29</td>\n",
       "    </tr>\n",
       "    <tr>\n",
       "      <th>4</th>\n",
       "      <td>Regular Council Meeting</td>\n",
       "      <td>2025-01-29 17:03:00</td>\n",
       "      <td>01h 13m</td>\n",
       "      <td>https://tulsa-ok.granicus.com/AgendaViewer.php...</td>\n",
       "      <td>https://tulsa-ok.granicus.com/MediaPlayer.php?...</td>\n",
       "      <td>73</td>\n",
       "    </tr>\n",
       "  </tbody>\n",
       "</table>\n",
       "</div>"
      ],
      "text/plain": [
       "                   meeting                date duration  \\\n",
       "0  Regular Council Meeting 2025-03-05 17:02:00  00h 39m   \n",
       "1  Regular Council Meeting 2025-02-26 17:00:00  00h 38m   \n",
       "2  Regular Council Meeting 2025-02-12 17:00:00  00h 31m   \n",
       "3  Regular Council Meeting 2025-02-05 17:00:00  00h 29m   \n",
       "4  Regular Council Meeting 2025-01-29 17:03:00  01h 13m   \n",
       "\n",
       "                                              agenda  \\\n",
       "0  https://tulsa-ok.granicus.com/AgendaViewer.php...   \n",
       "1  https://tulsa-ok.granicus.com/AgendaViewer.php...   \n",
       "2  https://tulsa-ok.granicus.com/AgendaViewer.php...   \n",
       "3  https://tulsa-ok.granicus.com/AgendaViewer.php...   \n",
       "4  https://tulsa-ok.granicus.com/AgendaViewer.php...   \n",
       "\n",
       "                                               video  duration_minutes  \n",
       "0  https://tulsa-ok.granicus.com/MediaPlayer.php?...                39  \n",
       "1  https://tulsa-ok.granicus.com/MediaPlayer.php?...                38  \n",
       "2  https://tulsa-ok.granicus.com/MediaPlayer.php?...                31  \n",
       "3  https://tulsa-ok.granicus.com/MediaPlayer.php?...                29  \n",
       "4  https://tulsa-ok.granicus.com/MediaPlayer.php?...                73  "
      ]
     },
     "execution_count": 9,
     "metadata": {},
     "output_type": "execute_result"
    }
   ],
   "source": [
    "# Read the meetings CSV file\n",
    "meeting_data = \"../data/meetings.csv\"\n",
    "meetings_df = pd.read_csv(meeting_data)\n",
    "\n",
    "# Convert date column to datetime\n",
    "meetings_df['date'] = pd.to_datetime(meetings_df['date'])\n",
    "\n",
    "# Sort by date in descending order (latest first)\n",
    "meetings_df = meetings_df.sort_values('date', ascending=False)\n",
    "\n",
    "city_council_meetings = meetings_df[\n",
    "    meetings_df[\"meeting\"].str.contains(\"Regular Council Meeting\")\n",
    "]\n",
    "\n",
    "city_council_meetings.head()"
   ]
  },
  {
   "cell_type": "markdown",
   "metadata": {},
   "source": [
    "### Select a meeting to work on"
   ]
  },
  {
   "cell_type": "code",
   "execution_count": 10,
   "metadata": {},
   "outputs": [
    {
     "data": {
      "application/vnd.jupyter.widget-view+json": {
       "model_id": "c3a60df3578e494482600f5ec78ade7e",
       "version_major": 2,
       "version_minor": 0
      },
      "text/plain": [
       "Dropdown(description='Select Video:', layout=Layout(width='75%'), options={'Regular Council Meeting - 2025-03-…"
      ]
     },
     "metadata": {},
     "output_type": "display_data"
    }
   ],
   "source": [
    "import ipywidgets as wdgt\n",
    "\n",
    "# Create dropdown widget with video URLs and meeting info\n",
    "options = {\n",
    "    f\"{row['meeting']} - {row['date'].strftime('%Y-%m-%d')}\": {\n",
    "        'url': row['video'],\n",
    "        'label': f\"{row['meeting']} - {row['date'].strftime('%Y-%m-%d')}\"\n",
    "    }\n",
    "    for _, row in city_council_meetings.iterrows()\n",
    "}\n",
    "\n",
    "video_select = wdgt.Dropdown(\n",
    "    options={k: v['url'] for k, v in options.items()},\n",
    "    description='Select Video:',\n",
    "    style={'description_width': 'initial'},\n",
    "    layout=wdgt.Layout(width='75%')\n",
    ")\n",
    "\n",
    "# Update video_url and file_name variables when selection changes\n",
    "def update_video_url(change):\n",
    "    global video_url, file_name\n",
    "    video_url = change.new\n",
    "    # Get the label for the selected URL\n",
    "    selected_label = [k for k,v in options.items() if v['url'] == change.new][0]\n",
    "    # Create safe filename by replacing spaces and special chars\n",
    "    file_name = selected_label.lower().replace(' ', '_').replace('-', '_')\n",
    "    file_name = ''.join(c for c in file_name if c.isalnum() or c == '_')\n",
    "\n",
    "video_select.observe(update_video_url, names='value')\n",
    "display(video_select)\n"
   ]
  },
  {
   "cell_type": "markdown",
   "metadata": {},
   "source": [
    "### Download the mp4 file from the meeting player page\n",
    "The meeting list includes a url to the granicus.com video player.\n",
    "The page includes a video stream url which is not practical to use for downloading.  The function get_video_player return a GranicusPlayerPage object that includes a `download_url` which is created from the streaming url.\n"
   ]
  },
  {
   "cell_type": "code",
   "execution_count": 11,
   "metadata": {},
   "outputs": [
    {
     "name": "stdout",
     "output_type": "stream",
     "text": [
      "Downloading video from: http://archive-video.granicus.com/tulsa-ok/tulsa-ok_d4578b1d-786e-49f9-9230-87b182dfffaf.mp4\n",
      "Saving to: ../data/video/regular_council_meeting___2025_02_26.mp4\n",
      "Downloaded 5% (30.0 MB / 588.8 MB)\n",
      "Downloaded 5% (31.0 MB / 588.8 MB)\n",
      "Downloaded 5% (32.0 MB / 588.8 MB)\n",
      "Downloaded 5% (33.0 MB / 588.8 MB)\n",
      "Downloaded 5% (34.0 MB / 588.8 MB)\n",
      "Downloaded 5% (35.0 MB / 588.8 MB)\n",
      "Downloaded 10% (59.0 MB / 588.8 MB)\n",
      "Downloaded 10% (60.0 MB / 588.8 MB)\n",
      "Downloaded 10% (61.0 MB / 588.8 MB)\n",
      "Downloaded 10% (62.0 MB / 588.8 MB)\n",
      "Downloaded 10% (63.0 MB / 588.8 MB)\n",
      "Downloaded 10% (64.0 MB / 588.8 MB)\n",
      "Downloaded 15% (89.0 MB / 588.8 MB)\n",
      "Downloaded 15% (90.0 MB / 588.8 MB)\n",
      "Downloaded 15% (91.0 MB / 588.8 MB)\n",
      "Downloaded 15% (92.0 MB / 588.8 MB)\n",
      "Downloaded 15% (93.0 MB / 588.8 MB)\n",
      "Downloaded 15% (94.0 MB / 588.8 MB)\n",
      "Downloaded 20% (118.0 MB / 588.8 MB)\n",
      "Downloaded 20% (119.0 MB / 588.8 MB)\n",
      "Downloaded 20% (120.0 MB / 588.8 MB)\n",
      "Downloaded 20% (121.0 MB / 588.8 MB)\n",
      "Downloaded 20% (122.0 MB / 588.8 MB)\n",
      "Downloaded 20% (123.0 MB / 588.8 MB)\n",
      "Downloaded 25% (148.0 MB / 588.8 MB)\n",
      "Downloaded 25% (149.0 MB / 588.8 MB)\n",
      "Downloaded 25% (150.0 MB / 588.8 MB)\n",
      "Downloaded 25% (151.0 MB / 588.8 MB)\n",
      "Downloaded 25% (152.0 MB / 588.8 MB)\n",
      "Downloaded 25% (153.0 MB / 588.8 MB)\n",
      "Downloaded 30% (177.0 MB / 588.8 MB)\n",
      "Downloaded 30% (178.0 MB / 588.8 MB)\n",
      "Downloaded 30% (179.0 MB / 588.8 MB)\n",
      "Downloaded 30% (180.0 MB / 588.8 MB)\n",
      "Downloaded 30% (181.0 MB / 588.8 MB)\n",
      "Downloaded 30% (182.0 MB / 588.8 MB)\n",
      "Downloaded 35% (207.0 MB / 588.8 MB)\n",
      "Downloaded 35% (208.0 MB / 588.8 MB)\n",
      "Downloaded 35% (209.0 MB / 588.8 MB)\n",
      "Downloaded 35% (210.0 MB / 588.8 MB)\n",
      "Downloaded 35% (211.0 MB / 588.8 MB)\n",
      "Downloaded 40% (236.0 MB / 588.8 MB)\n",
      "Downloaded 40% (237.0 MB / 588.8 MB)\n",
      "Downloaded 40% (238.0 MB / 588.8 MB)\n",
      "Downloaded 40% (239.0 MB / 588.8 MB)\n",
      "Downloaded 40% (240.0 MB / 588.8 MB)\n",
      "Downloaded 40% (241.0 MB / 588.8 MB)\n",
      "Downloaded 45% (265.0 MB / 588.8 MB)\n",
      "Downloaded 45% (266.0 MB / 588.8 MB)\n",
      "Downloaded 45% (267.0 MB / 588.8 MB)\n",
      "Downloaded 45% (268.0 MB / 588.8 MB)\n",
      "Downloaded 45% (269.0 MB / 588.8 MB)\n",
      "Downloaded 45% (270.0 MB / 588.8 MB)\n",
      "Downloaded 50% (295.0 MB / 588.8 MB)\n",
      "Downloaded 50% (296.0 MB / 588.8 MB)\n",
      "Downloaded 50% (297.0 MB / 588.8 MB)\n",
      "Downloaded 50% (298.0 MB / 588.8 MB)\n",
      "Downloaded 50% (299.0 MB / 588.8 MB)\n",
      "Downloaded 50% (300.0 MB / 588.8 MB)\n",
      "Downloaded 55% (324.0 MB / 588.8 MB)\n",
      "Downloaded 55% (325.0 MB / 588.8 MB)\n",
      "Downloaded 55% (326.0 MB / 588.8 MB)\n",
      "Downloaded 55% (327.0 MB / 588.8 MB)\n",
      "Downloaded 55% (328.0 MB / 588.8 MB)\n",
      "Downloaded 55% (329.0 MB / 588.8 MB)\n",
      "Downloaded 60% (354.0 MB / 588.8 MB)\n",
      "Downloaded 60% (355.0 MB / 588.8 MB)\n",
      "Downloaded 60% (356.0 MB / 588.8 MB)\n",
      "Downloaded 60% (357.0 MB / 588.8 MB)\n",
      "Downloaded 60% (358.0 MB / 588.8 MB)\n",
      "Downloaded 60% (359.0 MB / 588.8 MB)\n",
      "Downloaded 65% (383.0 MB / 588.8 MB)\n",
      "Downloaded 65% (384.0 MB / 588.8 MB)\n",
      "Downloaded 65% (385.0 MB / 588.8 MB)\n",
      "Downloaded 65% (386.0 MB / 588.8 MB)\n",
      "Downloaded 65% (387.0 MB / 588.8 MB)\n",
      "Downloaded 65% (388.0 MB / 588.8 MB)\n",
      "Downloaded 70% (413.0 MB / 588.8 MB)\n",
      "Downloaded 70% (414.0 MB / 588.8 MB)\n",
      "Downloaded 70% (415.0 MB / 588.8 MB)\n",
      "Downloaded 70% (416.0 MB / 588.8 MB)\n",
      "Downloaded 70% (417.0 MB / 588.8 MB)\n",
      "Downloaded 70% (418.0 MB / 588.8 MB)\n",
      "Downloaded 75% (442.0 MB / 588.8 MB)\n",
      "Downloaded 75% (443.0 MB / 588.8 MB)\n",
      "Downloaded 75% (444.0 MB / 588.8 MB)\n",
      "Downloaded 75% (445.0 MB / 588.8 MB)\n",
      "Downloaded 75% (446.0 MB / 588.8 MB)\n",
      "Downloaded 75% (447.0 MB / 588.8 MB)\n",
      "Downloaded 80% (472.0 MB / 588.8 MB)\n",
      "Downloaded 80% (473.0 MB / 588.8 MB)\n",
      "Downloaded 80% (474.0 MB / 588.8 MB)\n",
      "Downloaded 80% (475.0 MB / 588.8 MB)\n",
      "Downloaded 80% (476.0 MB / 588.8 MB)\n",
      "Downloaded 85% (501.0 MB / 588.8 MB)\n",
      "Downloaded 85% (502.0 MB / 588.8 MB)\n",
      "Downloaded 85% (503.0 MB / 588.8 MB)\n",
      "Downloaded 85% (504.0 MB / 588.8 MB)\n",
      "Downloaded 85% (505.0 MB / 588.8 MB)\n",
      "Downloaded 85% (506.0 MB / 588.8 MB)\n",
      "Downloaded 90% (530.0 MB / 588.8 MB)\n",
      "Downloaded 90% (531.0 MB / 588.8 MB)\n",
      "Downloaded 90% (532.0 MB / 588.8 MB)\n",
      "Downloaded 90% (533.0 MB / 588.8 MB)\n",
      "Downloaded 90% (534.0 MB / 588.8 MB)\n",
      "Downloaded 90% (535.0 MB / 588.8 MB)\n",
      "Downloaded 95% (560.0 MB / 588.8 MB)\n",
      "Downloaded 95% (561.0 MB / 588.8 MB)\n",
      "Downloaded 95% (562.0 MB / 588.8 MB)\n",
      "Downloaded 95% (563.0 MB / 588.8 MB)\n",
      "Downloaded 95% (564.0 MB / 588.8 MB)\n",
      "Downloaded 95% (565.0 MB / 588.8 MB)\n",
      "Downloaded 100% (588.8 MB / 588.8 MB)\n",
      "Download complete: http://archive-video.granicus.com/tulsa-ok/tulsa-ok_d4578b1d-786e-49f9-9230-87b182dfffaf.mp4\n",
      "Video saved to: ../data/video/regular_council_meeting___2025_02_26.mp4\n"
     ]
    }
   ],
   "source": [
    "import os\n",
    "import sys\n",
    "from pathlib import Path\n",
    "import requests\n",
    "from src.models.meeting import GranicusPlayerPage\n",
    "from src.granicus import get_video_player\n",
    "from src.videos import download_file\n",
    "# You may need to turn off VPN\n",
    "sys.path.append(\"../\")  # Make sure we can import from scripts\n",
    "\n",
    "# Create output directory if it doesn't exist\n",
    "VIDEO_DIRECTORY = Path(\"../data/video\")\n",
    "VIDEO_DIRECTORY.mkdir(parents=True, exist_ok=True)\n",
    "\n",
    "# Define output path for the video\n",
    "output_path = VIDEO_DIRECTORY / f\"{file_name}.mp4\"\n",
    "\n",
    "# Get video player page info\n",
    "player_page: GranicusPlayerPage = await get_video_player(video_url)\n",
    "\n",
    "# Run the download\n",
    "video_file = download_file(player_page.download_url, output_path)\n",
    "\n",
    "# Display the result\n",
    "if video_file:\n",
    "    print(f\"Video saved to: {video_file}\")"
   ]
  },
  {
   "cell_type": "markdown",
   "metadata": {},
   "source": [
    "### Use the downloaded mp4 file to extract a wav file"
   ]
  },
  {
   "cell_type": "code",
   "execution_count": 12,
   "metadata": {},
   "outputs": [
    {
     "name": "stdout",
     "output_type": "stream",
     "text": [
      "Extracting audio from: ../data/video/regular_council_meeting___2025_02_26.mp4\n",
      "Saving audio to: ../data/audio/regular_council_meeting___2025_02_26.wav\n",
      "Audio saved to: ../data/audio/regular_council_meeting___2025_02_26.wav\n",
      "Audio file size: 70.34 MB\n"
     ]
    }
   ],
   "source": [
    "import asyncio\n",
    "import os\n",
    "from pathlib import Path\n",
    "from src.videos import save_audio\n",
    "\n",
    "\n",
    "# Create output directory for audio files if it doesn't exist\n",
    "audio_dir = Path(\"../data/audio\")\n",
    "audio_dir.mkdir(parents=True, exist_ok=True)\n",
    "\n",
    "# Assuming video_file contains the path to the downloaded video\n",
    "# This would be the result from the previous download_video call\n",
    "if not os.path.exists(video_file):\n",
    "    print(f\"Error: Video file not found at {video_file}\")\n",
    "else:\n",
    "    # Define output path for the audio\n",
    "    video_filename = os.path.basename(video_file)\n",
    "    base_filename = os.path.splitext(video_filename)[0]\n",
    "    audio_path = audio_dir / f\"{base_filename}.wav\"\n",
    "\n",
    "    print(f\"Extracting audio from: {video_file}\")\n",
    "    print(f\"Saving audio to: {audio_path}\")\n",
    "\n",
    "    audio_file = await save_audio(\n",
    "                video_path=video_file,\n",
    "                output_path=str(audio_path),\n",
    "            )\n",
    "\n",
    "    if audio_file:\n",
    "        print(f\"Audio saved to: {audio_file}\")\n",
    "        print(f\"Audio file size: {os.path.getsize(audio_file) / (1024 * 1024):.2f} MB\")"
   ]
  },
  {
   "cell_type": "markdown",
   "metadata": {},
   "source": [
    "### Convert the video file into a transcipt\n",
    "This step requires a huggingface login and api_token.\n",
    "You will also need to agree to terms on each of the following models:\n",
    "- guillaumekln/faster-whisper\n",
    "- \n"
   ]
  },
  {
   "cell_type": "code",
   "execution_count": 2,
   "metadata": {},
   "outputs": [
    {
     "name": "stderr",
     "output_type": "stream",
     "text": [
      "2025-03-11 17:02:18,669 - src.huggingface - INFO - Successfully loaded Whisper model: tiny\n",
      "2025-03-11 17:02:18,671 - src.videos - INFO - Transcribing video: ../data/video/regular_council_meeting___2025_02_26.mp4\n",
      "2025-03-11 17:02:18,671 - src.videos - INFO - transcription will be saved to: ../data/transcripts/regular_council_meeting___2025_02_26.json\n",
      "2025-03-11 17:02:21,501 - faster_whisper - INFO - Processing audio with duration 38:25.014\n",
      "2025-03-11 17:02:22,394 - faster_whisper - INFO - Detected language 'en' with probability 0.38\n",
      "2025-03-11 17:02:22,398 - src.videos - INFO - Processing transcription segments...\n",
      "2025-03-11 17:04:23,388 - src.videos - INFO - Transcription completed in 124.72 seconds\n",
      "2025-03-11 17:04:23,388 - src.videos - INFO - Detailed JSON saved to: ../data/transcripts/regular_council_meeting___2025_02_26.json\n"
     ]
    }
   ],
   "source": [
    "from src.videos import transcribe_video\n",
    "\n",
    "video_file = \"../data/video/regular_council_meeting___2025_02_26.mp4\"\n",
    "\n",
    "transcription_dir = Path(\"../data/transcripts\")\n",
    "\n",
    "transcription = await transcribe_video(video_file, transcription_dir)"
   ]
  },
  {
   "cell_type": "code",
   "execution_count": null,
   "metadata": {},
   "outputs": [
    {
     "name": "stderr",
     "output_type": "stream",
     "text": [
      "INFO:src.videos:Transcribing video with speaker diarization: ../data/video/regular_council_meeting___2025_02_26.mp4\n",
      "INFO:src.videos:Output will be saved to: ../data/transcripts/regular_council_meeting___2025_02_26.diarized.json\n",
      "INFO:src.huggingface:Auto-detected device: cpu\n",
      "INFO:src.huggingface:Auto-selected compute_type: int8\n",
      "INFO:src.huggingface:Loading WhisperX model: medium on cpu with int8 precision\n",
      "Lightning automatically upgraded your loaded checkpoint from v1.5.4 to v2.5.0.post0. To apply the upgrade to your files permanently, run `python -m pytorch_lightning.utilities.upgrade_checkpoint ../../../../Library/Caches/pypoetry/virtualenvs/tgov_scraper-zRR99ne3-py3.10/lib/python3.10/site-packages/whisperx/assets/pytorch_model.bin`\n",
      "INFO:src.huggingface:Loading diarization pipeline\n"
     ]
    },
    {
     "name": "stdout",
     "output_type": "stream",
     "text": [
      "No language specified, language will be first be detected for each audio file (increases inference time).\n",
      ">>Performing voice activity detection using Pyannote...\n",
      "Model was trained with pyannote.audio 0.0.1, yours is 3.3.2. Bad things might happen unless you revert pyannote.audio to 0.x.\n",
      "Model was trained with torch 1.10.0+cu102, yours is 2.4.1. Bad things might happen unless you revert torch to 1.x.\n"
     ]
    },
    {
     "name": "stderr",
     "output_type": "stream",
     "text": [
      "INFO:src.huggingface:WhisperX model loaded in 2.23 seconds\n",
      "INFO:src.videos:Running initial transcription with batch size 8...\n"
     ]
    },
    {
     "name": "stdout",
     "output_type": "stream",
     "text": [
      "Detected language: en (0.60) in first 30s of audio...\n"
     ]
    },
    {
     "name": "stderr",
     "output_type": "stream",
     "text": [
      "INFO:src.videos:Detected language: en\n",
      "INFO:src.videos:Loading alignment model for detected language: en\n",
      "INFO:src.videos:Aligning transcription with audio...\n",
      "INFO:src.videos:Running speaker diarization...\n",
      "/Users/owner/Library/Caches/pypoetry/virtualenvs/tgov_scraper-zRR99ne3-py3.10/lib/python3.10/site-packages/pyannote/audio/models/blocks/pooling.py:104: UserWarning: std(): degrees of freedom is <= 0. Correction should be strictly less than the reduction factor (input numel divided by output numel). (Triggered internally at /Users/runner/work/pytorch/pytorch/pytorch/aten/src/ATen/native/ReduceOps.cpp:1808.)\n",
      "  std = sequences.std(dim=-1, correction=1)\n"
     ]
    }
   ],
   "source": [
    "from src.videos import transcribe_video_with_diarization\n",
    "\n",
    "video_file = \"../data/video/regular_council_meeting___2025_02_26.mp4\"\n",
    "\n",
    "transcription_dir = Path(\"../data/transcripts\")\n",
    "\n",
    "transcription = await transcribe_video_with_diarization(video_file, transcription_dir)"
   ]
  }
 ],
 "metadata": {
  "kernelspec": {
   "display_name": "TGOV Scraper",
   "language": "python",
   "name": "tgov-scraper"
  },
  "language_info": {
   "codemirror_mode": {
    "name": "ipython",
    "version": 3
   },
   "file_extension": ".py",
   "mimetype": "text/x-python",
   "name": "python",
   "nbconvert_exporter": "python",
   "pygments_lexer": "ipython3",
   "version": "3.11.9"
  }
 },
 "nbformat": 4,
 "nbformat_minor": 2
}
