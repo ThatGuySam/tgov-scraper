{
 "cells": [
  {
   "cell_type": "markdown",
   "metadata": {},
   "source": [
    "# Tulsa Government Access Television Meetings\n",
    "\n",
    "This notebook demonstrates how to fetch meeting data from the Tulsa Government Access Television website and convert it to a pandas DataFrame for analysis."
   ]
  },
  {
   "cell_type": "code",
   "execution_count": null,
   "metadata": {},
   "outputs": [],
   "source": [
    "import sys\n",
    "import os\n",
    "from pathlib import Path\n",
    "import asyncio\n",
    "import pandas as pd\n",
    "from IPython.display import display\n",
    "\n",
    "sys.path.append(\"../\")\n"
   ]
  },
  {
   "cell_type": "markdown",
   "metadata": {},
   "source": [
    "## Fetch Meeting Data\n",
    "\n",
    "First, let's fetch the meeting data from the TGOV website using our `get_meetings()` function."
   ]
  },
  {
   "cell_type": "code",
   "execution_count": null,
   "metadata": {},
   "outputs": [],
   "source": [
    "from src.meetings import get_meetings\n",
    "\n",
    "# Fetch the meetings\n",
    "meetings = await get_meetings()\n",
    "\n",
    "# Display the first few meetings\n",
    "print(f\"Found {len(meetings)} meetings\")\n",
    "meetings[:5]"
   ]
  },
  {
   "cell_type": "markdown",
   "metadata": {},
   "source": [
    "## Convert to DataFrame\n",
    "\n",
    "Now, let's convert the list of Meeting objects to a pandas DataFrame for easier analysis."
   ]
  },
  {
   "cell_type": "code",
   "execution_count": null,
   "metadata": {},
   "outputs": [],
   "source": [
    "# Convert Meeting objects to dictionaries\n",
    "meeting_dicts = [meeting.model_dump() for meeting in meetings]\n",
    "\n",
    "# Create a DataFrame\n",
    "df = pd.DataFrame(meeting_dicts)\n",
    "\n",
    "# Display the DataFrame\n",
    "display(df.head())\n",
    "print(f\"DataFrame shape: {df.shape}\")"
   ]
  },
  {
   "cell_type": "markdown",
   "metadata": {},
   "source": [
    "## Basic Analysis\n",
    "\n",
    "Let's perform some basic analysis on the meeting data."
   ]
  },
  {
   "cell_type": "code",
   "execution_count": null,
   "metadata": {},
   "outputs": [],
   "source": [
    "import matplotlib.pyplot as plt\n",
    "\n",
    "# Count meetings by type\n",
    "meeting_counts = df['meeting'].value_counts()\n",
    "display(meeting_counts)\n",
    "\n",
    "# Plot the meeting counts\n",
    "meeting_counts.plot(kind='bar', figsize=(12, 6))\n",
    "plt.title('Number of Meetings by Type')\n",
    "plt.xlabel('Meeting Type')\n",
    "plt.ylabel('Count')\n",
    "plt.xticks(rotation=45, ha='right')\n",
    "plt.tight_layout()\n",
    "plt.show()"
   ]
  },
  {
   "cell_type": "markdown",
   "metadata": {},
   "source": [
    "## Duration Analysis\n",
    "\n",
    "Let's analyze the duration of meetings."
   ]
  },
  {
   "cell_type": "code",
   "execution_count": null,
   "metadata": {},
   "outputs": [],
   "source": [
    "# Convert duration strings to minutes\n",
    "def duration_to_minutes(duration):\n",
    "    if not duration or pd.isna(duration):\n",
    "        return None\n",
    "    \n",
    "    # Parse duration in format \"00h 39m\"\n",
    "    try:\n",
    "        hours = 0\n",
    "        minutes = 0\n",
    "        \n",
    "        if 'h' in duration:\n",
    "            hours_part = duration.split('h')[0].strip()\n",
    "            hours = int(hours_part)\n",
    "        \n",
    "        if 'm' in duration:\n",
    "            if 'h' in duration:\n",
    "                minutes_part = duration.split('h')[1].split('m')[0].strip()\n",
    "            else:\n",
    "                minutes_part = duration.split('m')[0].strip()\n",
    "            minutes = int(minutes_part)\n",
    "        \n",
    "        return hours * 60 + minutes\n",
    "    except:\n",
    "        return None\n",
    "\n",
    "# Apply the conversion\n",
    "df['duration_minutes'] = df['duration'].apply(duration_to_minutes)\n",
    "\n",
    "# Display statistics about meeting durations\n",
    "duration_stats = df['duration_minutes'].describe()\n",
    "display(duration_stats)\n",
    "\n",
    "# Plot a histogram of meeting durations\n",
    "plt.figure(figsize=(10, 6))\n",
    "df['duration_minutes'].hist(bins=20)\n",
    "plt.title('Distribution of Meeting Durations')\n",
    "plt.xlabel('Duration (minutes)')\n",
    "plt.ylabel('Count')\n",
    "plt.grid(False)\n",
    "plt.show()"
   ]
  },
  {
   "cell_type": "markdown",
   "metadata": {},
   "source": [
    "## Average Duration by Meeting Type\n",
    "\n",
    "Let's calculate the average duration for each type of meeting."
   ]
  },
  {
   "cell_type": "code",
   "execution_count": null,
   "metadata": {},
   "outputs": [],
   "source": [
    "# Group by meeting type and calculate average duration\n",
    "avg_duration_by_type = df.groupby('meeting')['duration_minutes'].mean().sort_values(ascending=False)\n",
    "display(avg_duration_by_type)\n",
    "\n",
    "# Plot the average durations\n",
    "avg_duration_by_type.plot(kind='bar', figsize=(12, 6))\n",
    "plt.title('Average Meeting Duration by Type')\n",
    "plt.xlabel('Meeting Type')\n",
    "plt.ylabel('Average Duration (minutes)')\n",
    "plt.xticks(rotation=45, ha='right')\n",
    "plt.tight_layout()\n",
    "plt.show()"
   ]
  },
  {
   "cell_type": "markdown",
   "metadata": {},
   "source": [
    "## Save the DataFrame\n",
    "\n",
    "Finally, let's save the DataFrame to a CSV file for future use."
   ]
  },
  {
   "cell_type": "code",
   "execution_count": null,
   "metadata": {},
   "outputs": [],
   "source": [
    "df.head()"
   ]
  },
  {
   "cell_type": "code",
   "execution_count": null,
   "metadata": {},
   "outputs": [],
   "source": [
    "# Save to CSV\n",
    "output_path = '../data/meetings.csv'\n",
    "os.makedirs(os.path.dirname(output_path), exist_ok=True)\n",
    "df.to_csv(output_path, index=False)\n",
    "print(f\"DataFrame saved to {output_path}\")"
   ]
  }
 ],
 "metadata": {
  "kernelspec": {
   "display_name": "TGOV Scraper",
   "language": "python",
   "name": "tgov-scraper"
  },
  "language_info": {
   "codemirror_mode": {
    "name": "ipython",
    "version": 3
   },
   "file_extension": ".py",
   "mimetype": "text/x-python",
   "name": "python",
   "nbconvert_exporter": "python",
   "pygments_lexer": "ipython3",
   "version": "3.10.3"
  }
 },
 "nbformat": 4,
 "nbformat_minor": 4
}
